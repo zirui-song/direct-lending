{
 "cells": [
  {
   "cell_type": "code",
   "execution_count": 1,
   "metadata": {},
   "outputs": [
    {
     "name": "stdout",
     "output_type": "stream",
     "text": [
      "Working directory is set to: /Users/zrsong/Dropbox (MIT)/Research Projects/Direct Lending/Code\n"
     ]
    }
   ],
   "source": [
    "import pandas as pd\n",
    "import os\n",
    "\n",
    "# Get the current working directory\n",
    "script_dir = os.getcwd()\n",
    "\n",
    "# Set the working directory to the current script's directory (which in this case is already the working directory)\n",
    "os.chdir(script_dir)\n",
    "\n",
    "print(f\"Working directory is set to: {script_dir}\")"
   ]
  },
  {
   "cell_type": "code",
   "execution_count": 3,
   "metadata": {},
   "outputs": [
    {
     "ename": "ModuleNotFoundError",
     "evalue": "No module named 'sec_edgar_downloader'",
     "output_type": "error",
     "traceback": [
      "\u001b[0;31m---------------------------------------------------------------------------\u001b[0m",
      "\u001b[0;31mModuleNotFoundError\u001b[0m                       Traceback (most recent call last)",
      "\u001b[1;32m/Users/zrsong/Dropbox (MIT)/Research Projects/Direct Lending/Code/Download_EDGAR_SEC.ipynb Cell 2\u001b[0m line \u001b[0;36m1\n\u001b[0;32m----> <a href='vscode-notebook-cell:/Users/zrsong/Dropbox%20%28MIT%29/Research%20Projects/Direct%20Lending/Code/Download_EDGAR_SEC.ipynb#W1sZmlsZQ%3D%3D?line=0'>1</a>\u001b[0m \u001b[39mfrom\u001b[39;00m \u001b[39msec_edgar_downloader\u001b[39;00m \u001b[39mimport\u001b[39;00m Downloader\n\u001b[1;32m      <a href='vscode-notebook-cell:/Users/zrsong/Dropbox%20%28MIT%29/Research%20Projects/Direct%20Lending/Code/Download_EDGAR_SEC.ipynb#W1sZmlsZQ%3D%3D?line=2'>3</a>\u001b[0m \u001b[39m# Create a downloader instance\u001b[39;00m\n\u001b[1;32m      <a href='vscode-notebook-cell:/Users/zrsong/Dropbox%20%28MIT%29/Research%20Projects/Direct%20Lending/Code/Download_EDGAR_SEC.ipynb#W1sZmlsZQ%3D%3D?line=3'>4</a>\u001b[0m dl \u001b[39m=\u001b[39m Downloader()\n",
      "\u001b[0;31mModuleNotFoundError\u001b[0m: No module named 'sec_edgar_downloader'"
     ]
    }
   ],
   "source": [
    "from sec_edgar_downloader import Downloader\n",
    "\n",
    "# Create a downloader instance\n",
    "dl = Downloader()\n",
    "\n",
    "# Set the accession number you want to download\n",
    "accession_number = \"0001564590-16-029161\"\n",
    "\n",
    "# Download specific filings like 8-K, 10-Q, and 10-K\n",
    "# For example, downloading the 10-Q filing associated with the accession number\n",
    "dl.get(\"10-Q\", accession_number)\n",
    "\n",
    "# Similarly, you can download 8-K and 10-K filings:\n",
    "dl.get(\"8-K\", accession_number)\n",
    "dl.get(\"10-K\", accession_number)"
   ]
  }
 ],
 "metadata": {
  "kernelspec": {
   "display_name": "Python 3",
   "language": "python",
   "name": "python3"
  },
  "language_info": {
   "codemirror_mode": {
    "name": "ipython",
    "version": 3
   },
   "file_extension": ".py",
   "mimetype": "text/x-python",
   "name": "python",
   "nbconvert_exporter": "python",
   "pygments_lexer": "ipython3",
   "version": "3.12.0"
  }
 },
 "nbformat": 4,
 "nbformat_minor": 2
}
