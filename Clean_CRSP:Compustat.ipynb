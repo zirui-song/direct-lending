{
 "cells": [
  {
   "cell_type": "code",
   "execution_count": 106,
   "id": "10d4ec2b",
   "metadata": {},
   "outputs": [
    {
     "name": "stdout",
     "output_type": "stream",
     "text": [
      "Working directory is set to: /Users/zrsong/MIT Dropbox/Zirui Song/Research Projects/Direct Lending/Code\n",
      "Loading library list...\n",
      "Done\n"
     ]
    }
   ],
   "source": [
    "import wrds\n",
    "import pandas as pd\n",
    "import numpy as np\n",
    "import os\n",
    "import datetime\n",
    "import time\n",
    "import matplotlib.pyplot as plt\n",
    "import seaborn as sns\n",
    "\n",
    "# Get the current working directory\n",
    "script_dir = os.getcwd()\n",
    "\n",
    "# Set the working directory to the current script's directory (which in this case is already the working directory)\n",
    "os.chdir(script_dir)\n",
    "\n",
    "print(f\"Working directory is set to: {script_dir}\")\n",
    "\n",
    "# Connect to WRDS\n",
    "db = wrds.Connection(wrds_username='zrsong')\n",
    "\n",
    "# Define the start and end dates\n",
    "start_date = '1990-01-01'\n",
    "end_date = '2024-06-30'"
   ]
  },
  {
   "cell_type": "markdown",
   "id": "9c624b15",
   "metadata": {},
   "source": [
    "# Compustat"
   ]
  },
  {
   "cell_type": "code",
   "execution_count": 107,
   "id": "8a80e81b",
   "metadata": {},
   "outputs": [],
   "source": [
    "# import from data/raw folder with low_memory=False to avoid dtype warnings\n",
    "df = pd.read_csv('../Data/Raw/crsp_compustat_merged_quarterly.csv', low_memory=False)\n",
    "df.columns = df.columns.str.lower()  # ensure all dataframe column names are lower case"
   ]
  },
  {
   "cell_type": "code",
   "execution_count": 108,
   "id": "da60eab6",
   "metadata": {},
   "outputs": [],
   "source": [
    "df = df.sort_values(['gvkey', 'fyearq', 'fqtr'])\n",
    "df['ebitda'] = df['oiadpq'] + df['dpq']\n",
    "df['debt'] = df['dlttq'] + df['dlcq']\n",
    "df['rnd'] = df['xrdq']\n",
    "df['ppe'] = df['ppentq']\n",
    "\n",
    "df['ebitda'] = df['ebitda'].interpolate(method='linear', limit_direction='both')\n",
    "df['debt'] = df['debt'].interpolate(method='linear', limit_direction='both')\n",
    "df['ppe'] = df['ppe'].interpolate(method='linear', limit_direction='both')\n",
    "df['rnd'] = df['rnd'].interpolate(method='linear', limit_direction='both')\n",
    "df['rnd'] = df['rnd'].fillna(0)\n"
   ]
  },
  {
   "cell_type": "code",
   "execution_count": 109,
   "id": "c7487c8b",
   "metadata": {},
   "outputs": [],
   "source": [
    "\n",
    "df['last_year_ebitda'] = df.groupby('gvkey')['ebitda'].transform(lambda x: x.rolling(window=4, min_periods=4).sum())\n",
    "# generate last year debt as the mean of the last 4 quarters\n",
    "df['last_year_debt'] = df.groupby('gvkey')['debt'].transform(lambda x: x.rolling(window=4, min_periods=4).mean())\n",
    "df['debt_to_ebitda'] = df['last_year_debt'] / df['last_year_ebitda']\n",
    "\n",
    "df['assets'] = df['atq']\n",
    "df['leverage'] = df['debt'] / df['assets']\n",
    "df['current_ratio'] = df['actq'] / df['lctq']\n",
    "df['market_cap'] = df['prccq'] * df['cshoq']\n",
    "df['market_to_book'] = (df['market_cap'] + df['debt'] + df['pstkq']) / df['ceqq']\n",
    "df['sales'] = df['saleq']\n",
    "df['revenue'] = df['revtq']\n"
   ]
  },
  {
   "cell_type": "markdown",
   "id": "3b1192e7",
   "metadata": {},
   "source": [
    "# CRSP "
   ]
  },
  {
   "cell_type": "code",
   "execution_count": 110,
   "id": "d60738af",
   "metadata": {},
   "outputs": [
    {
     "name": "stdout",
     "output_type": "stream",
     "text": [
      "      cusip  permco  permno       date       ret      vol  shrout      prc\n",
      "0  36720410    7953   10001 1990-01-31 -0.018519    353.0  1022.0 -9.93750\n",
      "1  05978R10    7954   10002 1990-01-31  0.020408     51.0  1175.0 -6.25000\n",
      "2  39031810    7957   10003 1990-01-31 -0.088235   3214.0  2194.0  7.75000\n",
      "3  95815510    7961   10005 1990-01-31  0.000000    252.0  8376.0 -0.06250\n",
      "4  81949130    7963   10007 1990-01-31 -0.474886  13859.0  4120.0 -3.59375\n",
      "   permno  permco  hshrcd  dlstcd    hcusip htick  \\\n",
      "0   10000    7952      10     560  68391610  None   \n",
      "1   10001    7953      11     233  36720410  None   \n",
      "2   10002    7954      11     231  05978R10  None   \n",
      "3   10003    7957      11     231  39031810  None   \n",
      "4   10004    7960      10     575  18906310  None   \n",
      "\n",
      "                         hcomnam htsymbol  hnaics hprimexc  ...      begvol  \\\n",
      "0      OPTIMUM MANUFACTURING INC    OMFGA    None        Q  ...  1986-01-07   \n",
      "1                GAS NATURAL INC     EGAS  221210        A  ...  1986-01-09   \n",
      "2  BANCTRUST FINANCIAL GROUP INC     BTFG  551111        Q  ...  1986-01-10   \n",
      "3     GREAT COUNTRY BK ASONIA CT     GCBK    None        Q  ...  1986-01-14   \n",
      "4            CLOSE OUTS PLUS INC     CLSO    None        Q  ...  1986-01-15   \n",
      "\n",
      "       endvol      begbid      endbid      begask      endask      begopr  \\\n",
      "0  1987-06-11        None        None        None        None        None   \n",
      "1  2017-08-03  1986-09-02  2017-08-03  1986-09-02  2017-08-03  1992-06-15   \n",
      "2  2013-02-15  1992-06-01  2013-02-15  1992-06-01  2013-02-15  1992-06-15   \n",
      "3  1995-12-15  1986-03-18  1995-12-15  1986-03-18  1995-12-15  1992-06-15   \n",
      "4  1986-01-17        None        None        None        None        None   \n",
      "\n",
      "       endopr  hsicmg  hsicig  \n",
      "0        None    39.0   399.0  \n",
      "1  2017-08-03    49.0   492.0  \n",
      "2  2013-02-15    60.0   602.0  \n",
      "3  1995-12-15    60.0   602.0  \n",
      "4        None    53.0   533.0  \n",
      "\n",
      "[5 rows x 44 columns]\n"
     ]
    }
   ],
   "source": [
    "# Define the variables to be imported\n",
    "crsp_vars = ['cusip', 'permco', 'permno', 'date', 'ret', 'vol', 'shrout', 'prc']\n",
    "\n",
    "# Define the query to get the annual returns of North American firms\n",
    "crsp_query = f\"\"\"\n",
    "    SELECT {', '.join(crsp_vars)}\n",
    "    FROM crsp.msf\n",
    "    WHERE date >= '{start_date}' AND date <= '{end_date}'\n",
    "\"\"\"\n",
    "\n",
    "# Execute the query and fetch the data\n",
    "crspm = db.raw_sql(crsp_query, date_cols=['date'])\n",
    "\n",
    "# Display the first few rows of the dataframe\n",
    "print(crspm.head())\n",
    "\n",
    "# header information from the CRSP file\n",
    "crsp_hdr_query = \"\"\"\n",
    "    SELECT *\n",
    "    FROM crsp.dsfhdr\n",
    "\"\"\"\n",
    "\n",
    "# Execute the query and fetch the data\n",
    "crsp_hdr = db.raw_sql(crsp_hdr_query, date_cols=['date'])\n",
    "\n",
    "# Display the first few rows of the dataframe\n",
    "print(crsp_hdr.head())\n",
    "\n",
    "# merge crspm and crsp_hdr with permno\n",
    "crspm = crspm.merge(crsp_hdr[['permno', 'dlstcd']], on='permno', how='left')\n",
    "\n",
    "# sort by permno date\n",
    "crspm = crspm.sort_values(['permno', 'date'])\n",
    "\n",
    "# Make sure data is sorted by permno and date\n",
    "crspm = crspm.sort_values(['permno', 'date'])"
   ]
  },
  {
   "cell_type": "code",
   "execution_count": 111,
   "id": "f2127298",
   "metadata": {},
   "outputs": [
    {
     "name": "stdout",
     "output_type": "stream",
     "text": [
      "          cusip  permco  permno       date       ret    vol  shrout     prc  \\\n",
      "0      36720410    7953   10001 1990-01-31 -0.018519  353.0  1022.0 -9.9375   \n",
      "6980   36720410    7953   10001 1990-02-28 -0.006289  149.0  1022.0 -9.8750   \n",
      "13959  36720410    7953   10001 1990-03-30  0.012658  127.0  1027.0 -9.8750   \n",
      "20954  36720410    7953   10001 1990-04-30  0.000000  166.0  1027.0 -9.8750   \n",
      "27953  36720410    7953   10001 1990-05-31 -0.012658  279.0  1027.0  9.7500   \n",
      "\n",
      "       dlstcd  rolling_12m_return  rolling_12m_vol  \n",
      "0         233                 NaN              NaN  \n",
      "6980      233                 NaN              NaN  \n",
      "13959     233                 NaN              NaN  \n",
      "20954     233                 NaN              NaN  \n",
      "27953     233                 NaN              NaN  \n"
     ]
    }
   ],
   "source": [
    "\n",
    "# Compute the rolling 12-month (i.e. 12 observations) buy-and-hold return for each permno\n",
    "crspm['rolling_12m_return'] = crspm.groupby('permno')['ret'] \\\n",
    "    .rolling(window=12, min_periods=12) \\\n",
    "    .apply(lambda x: np.prod(1 + x) - 1, raw=True) \\\n",
    "    .reset_index(level=0, drop=True)\n",
    "\n",
    "# Compute the rolling 12-month return volatility (standard deviation)\n",
    "crspm['rolling_12m_vol'] = crspm.groupby('permno')['ret'] \\\n",
    "    .rolling(window=12, min_periods=12) \\\n",
    "    .std() \\\n",
    "    .reset_index(level=0, drop=True)\n",
    "\n",
    "# Display the first few rows of the updated dataframe\n",
    "print(crspm.head())\n"
   ]
  },
  {
   "cell_type": "code",
   "execution_count": 112,
   "id": "38a3f372",
   "metadata": {},
   "outputs": [],
   "source": [
    "# Create a period column at the quarter level for aggregation\n",
    "crspm['quarter'] = crspm['date'].dt.to_period('Q')\n",
    "\n",
    "# Aggregate to permno and quarter level (keeping the most recent rolling return and volatility in each quarter, plus dlstcd)\n",
    "crspq = crspm.groupby(['permno', 'quarter']).agg({\n",
    "    'rolling_12m_return': 'last',\n",
    "    'rolling_12m_vol': 'last',\n",
    "    'dlstcd': 'first'\n",
    "}).reset_index()\n"
   ]
  },
  {
   "cell_type": "code",
   "execution_count": 113,
   "id": "5b2e8bd3",
   "metadata": {},
   "outputs": [],
   "source": [
    "# Create 'year' and 'qtr' columns in crspq from the 'quarter' Period object\n",
    "crspq['year'] = crspq['quarter'].dt.year\n",
    "crspq['qtr'] = crspq['quarter'].dt.quarter\n",
    "\n",
    "# Merge compustat dataframe (df) with crspq\n",
    "merged_df = df.merge(crspq, left_on=['lpermno', 'fyearq', 'fqtr'], right_on=['permno', 'year', 'qtr'], how='left')"
   ]
  },
  {
   "cell_type": "code",
   "execution_count": 114,
   "id": "811735da",
   "metadata": {},
   "outputs": [
    {
     "name": "stdout",
     "output_type": "stream",
     "text": [
      "   gvkey  lpermno    datadate  fyearq  fqtr  ebitda  last_year_ebitda  \\\n",
      "0   1004    54594  1990-02-28    1989     3  14.251               NaN   \n",
      "1   1004    54594  1990-05-31    1989     4  13.137               NaN   \n",
      "2   1004    54594  1990-08-31    1990     1  15.400               NaN   \n",
      "3   1004    54594  1990-11-30    1990     2   8.871            51.659   \n",
      "4   1004    54594  1991-02-28    1990     3  11.344            48.752   \n",
      "\n",
      "      debt  last_year_debt  debt_to_ebitda  ...    sales    rnd     ppe  \\\n",
      "0  105.157             NaN             NaN  ...  112.278  5.562  53.428   \n",
      "1  106.150             NaN             NaN  ...  119.396  5.562  63.441   \n",
      "2   99.233             NaN             NaN  ...  116.092  5.562  63.545   \n",
      "3  105.332       103.96800        2.012583  ...  115.808  5.562  63.075   \n",
      "4   80.456        97.79275        2.005923  ...  117.820  5.562  63.626   \n",
      "\n",
      "    permno  quarter  rolling_12m_return  rolling_12m_vol  dlstcd    year  qtr  \n",
      "0      NaN      NaT                 NaN              NaN     NaN     NaN  NaN  \n",
      "1      NaN      NaT                 NaN              NaN     NaN     NaN  NaN  \n",
      "2  54594.0   1990Q1                 NaN              NaN   100.0  1990.0  1.0  \n",
      "3  54594.0   1990Q2                 NaN              NaN   100.0  1990.0  2.0  \n",
      "4  54594.0   1990Q3                 NaN              NaN   100.0  1990.0  3.0  \n",
      "\n",
      "[5 rows x 28 columns]\n"
     ]
    }
   ],
   "source": [
    "vars_to_keep = [\n",
    "    'gvkey', 'lpermno', 'datadate', 'fyearq', 'fqtr',\n",
    "    'ebitda', 'last_year_ebitda', 'debt', 'last_year_debt', 'debt_to_ebitda',\n",
    "    'assets', 'leverage', 'current_ratio', 'revenue', 'sic', 'naics',\n",
    "    'market_cap', 'market_to_book', 'sales', 'rnd', 'ppe', \n",
    "    'permno', 'quarter', 'rolling_12m_return', 'rolling_12m_vol',\n",
    "    'dlstcd', 'year', 'qtr'\n",
    "]\n",
    "\n",
    "merged_df = merged_df[vars_to_keep]\n",
    "print(merged_df.head())"
   ]
  },
  {
   "cell_type": "code",
   "execution_count": 115,
   "id": "83a67ef8",
   "metadata": {},
   "outputs": [],
   "source": [
    "merged_df['sales_growth'] = merged_df.groupby('gvkey')['sales'].pct_change(4, fill_method=None)\n",
    "merged_df['asset_growth'] = merged_df.groupby('gvkey')['assets'].pct_change(4, fill_method=None)\n",
    "merged_df['leverage_growth'] = merged_df.groupby('gvkey')['leverage'].pct_change(4, fill_method=None)\n",
    "\n",
    "# trailing 4 quarters transformations remain unchanged\n",
    "merged_df['last_year_assets'] = merged_df.groupby('gvkey')['assets'].transform(lambda x: x.rolling(window=4, min_periods=4).mean())\n",
    "merged_df['last_year_sales'] = merged_df.groupby('gvkey')['sales'].transform(lambda x: x.rolling(window=4, min_periods=4).mean())\n",
    "merged_df['last_year_leverage'] = merged_df.groupby('gvkey')['leverage'].transform(lambda x: x.rolling(window=4, min_periods=4).mean())\n",
    "merged_df['last_year_market_to_book'] = merged_df.groupby('gvkey')['market_to_book'].transform(lambda x: x.rolling(window=4, min_periods=4).mean())\n",
    "merged_df['last_year_rnd'] = merged_df.groupby('gvkey')['rnd'].transform(lambda x: x.rolling(window=4, min_periods=4).sum())\n",
    "merged_df['last_year_ppe'] = merged_df.groupby('gvkey')['ppe'].transform(lambda x: x.rolling(window=4, min_periods=4).sum())\n",
    "merged_df['last_year_rnd_intensity'] = merged_df['last_year_rnd'] / merged_df['last_year_assets']\n",
    "merged_df['last_year_tangibility'] = merged_df['last_year_ppe'] / merged_df['last_year_assets']\n"
   ]
  },
  {
   "cell_type": "code",
   "execution_count": 116,
   "id": "eecc21ac",
   "metadata": {},
   "outputs": [],
   "source": [
    "merged_df = merged_df[merged_df['fyearq'] >= 1996]\n",
    "merged_df.to_csv('../Data/Cleaned/crsp_compustat_quarterly_cleaned.csv', index=False)"
   ]
  }
 ],
 "metadata": {
  "kernelspec": {
   "display_name": "Python 3",
   "language": "python",
   "name": "python3"
  },
  "language_info": {
   "codemirror_mode": {
    "name": "ipython",
    "version": 3
   },
   "file_extension": ".py",
   "mimetype": "text/x-python",
   "name": "python",
   "nbconvert_exporter": "python",
   "pygments_lexer": "ipython3",
   "version": "3.12.0"
  }
 },
 "nbformat": 4,
 "nbformat_minor": 5
}
