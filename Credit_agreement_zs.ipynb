{
 "cells": [
  {
   "cell_type": "code",
   "execution_count": 5,
   "id": "10d4ec2b",
   "metadata": {},
   "outputs": [],
   "source": [
    "import os\n",
    "import zipfile\n",
    "import pandas as pd\n",
    "import re"
   ]
  },
  {
   "cell_type": "code",
   "execution_count": 7,
   "id": "4af19c67",
   "metadata": {},
   "outputs": [],
   "source": [
    "import os\n",
    "import zipfile\n",
    "import pandas as pd\n",
    "\n",
    "def search_and_save_files(folder_path):\n",
    "    # Initialize an empty list to collect results\n",
    "    results = []\n",
    "\n",
    "    for root, dirs, files in os.walk(folder_path):\n",
    "        for file in files:\n",
    "            if file.endswith('.zip'):\n",
    "                zip_file_path = os.path.join(root, file)\n",
    "                \n",
    "                with zipfile.ZipFile(zip_file_path, 'r') as zip_ref:\n",
    "                    zip_file_list = zip_ref.namelist()\n",
    "                    \n",
    "                    for zip_file_name in zip_file_list:\n",
    "                        with zip_ref.open(zip_file_name) as zipped_file:\n",
    "                            content = None\n",
    "                            for encoding in ['utf-8', 'utf-16', 'latin-1']:\n",
    "                                try:\n",
    "                                    content = zipped_file.read().decode(encoding)\n",
    "                                    break\n",
    "                                except UnicodeDecodeError:\n",
    "                                    continue\n",
    "                            \n",
    "                            if content is None:\n",
    "                                continue\n",
    "                            \n",
    "                            # Check if the first 1000 characters contain 'amendment' or 'amended'\n",
    "                            first_1000_chars = content[:1000].lower()\n",
    "                            if any(keyword in first_1000_chars for keyword in ['amendment', 'amended', 'amends', 'restatement', 'restated', 'restates']):\n",
    "                                continue\n",
    "\n",
    "                            search_terms = ['credit agreement', 'loan agreement', 'credit facility',\n",
    "                                            'loan and security agreement', 'loan & security agreement',\n",
    "                                            'revolving credit', 'financing and security agreement',\n",
    "                                            'financing & security agreement', 'credit and guarantee agreement',\n",
    "                                            'credit & guarantee agreement', 'credit and security agreement', 'credit & security agreement']\n",
    "                            toc_terms = ['table of contents', 'tableofcontents', 'table of contents', 'tableofcontents']\n",
    "                            toc_within_lines = 5000\n",
    "\n",
    "                            # Search for terms and check for 'table of contents' nearby\n",
    "                            for term in search_terms:\n",
    "                                term_lower = term.lower()\n",
    "                                if term_lower in content.lower():\n",
    "                                    index = content.lower().find(term_lower)\n",
    "                                    for toc_term in toc_terms:\n",
    "                                        if content.lower().find(toc_term, index, index + toc_within_lines) != -1:\n",
    "                                            # Append result to the list\n",
    "                                            results.append({'File Name': zip_file_name, 'Search Term': term})\n",
    "                                            break\n",
    "                                    break\n",
    "    \n",
    "    # Create DataFrame from results list\n",
    "    df = pd.DataFrame(results)\n",
    "    return df\n",
    "\n",
    "folder_path = '/Users/zrsong/Dropbox (MIT)/Research Projects/Direct Lending/credit_agreements/Original_loan_contracts'\n",
    "result_df = search_and_save_files(folder_path)"
   ]
  },
  {
   "cell_type": "code",
   "execution_count": 8,
   "metadata": {},
   "outputs": [],
   "source": [
    "# save result_df to a csv file\n",
    "result_df.to_csv('../Outputs/Agreements.csv', index=False)"
   ]
  }
 ],
 "metadata": {
  "kernelspec": {
   "display_name": "Python 3 (ipykernel)",
   "language": "python",
   "name": "python3"
  },
  "language_info": {
   "codemirror_mode": {
    "name": "ipython",
    "version": 3
   },
   "file_extension": ".py",
   "mimetype": "text/x-python",
   "name": "python",
   "nbconvert_exporter": "python",
   "pygments_lexer": "ipython3",
   "version": "3.12.0"
  }
 },
 "nbformat": 4,
 "nbformat_minor": 5
}
