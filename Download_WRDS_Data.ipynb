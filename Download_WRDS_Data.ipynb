{
 "cells": [
  {
   "cell_type": "code",
   "execution_count": 1,
   "metadata": {},
   "outputs": [
    {
     "name": "stdout",
     "output_type": "stream",
     "text": [
      "Working directory is set to: /Users/zrsong/Dropbox (MIT)/Research Projects/Direct Lending/Code\n",
      "Loading library list...\n",
      "Done\n"
     ]
    },
    {
     "data": {
      "text/plain": [
       "'\\n# Use S&P ratings data as Compustat ratings data were discontinued in 2017\\n# Query the S&P ratings data\\nquery = f\"\"\"\\n    SELECT gvkey, ratingdate, ratingsymbol\\n    FROM ciq_ratings.wrds_erating \\n    WHERE ratingdate >= \\'{start_date}\\' AND ratingdate <= \\'{end_date}\\'\\n\"\"\"\\n\\n# Execute the query and fetch the data\\nratings_date = db.raw_sql(query)\\n\\n# Save the data to a CSV file\\nratings_date.to_csv(\\'../Data/ratings_data.csv\\', index=False)\\n'"
      ]
     },
     "execution_count": 1,
     "metadata": {},
     "output_type": "execute_result"
    }
   ],
   "source": [
    "import wrds\n",
    "import pandas as pd\n",
    "import os\n",
    "\n",
    "# Get the current working directory\n",
    "script_dir = os.getcwd()\n",
    "\n",
    "# Set the working directory to the current script's directory (which in this case is already the working directory)\n",
    "os.chdir(script_dir)\n",
    "\n",
    "print(f\"Working directory is set to: {script_dir}\")\n",
    "\n",
    "# Connect to WRDS\n",
    "db = wrds.Connection(wrds_username='zrsong')\n",
    "\n",
    "# Define the start and end dates\n",
    "start_date = '1994-01-01'\n",
    "end_date = '2024-06-30'\n",
    "\n",
    "'''\n",
    "# Use S&P ratings data as Compustat ratings data were discontinued in 2017\n",
    "# Query the S&P ratings data\n",
    "query = f\"\"\"\n",
    "    SELECT gvkey, ratingdate, ratingsymbol\n",
    "    FROM ciq_ratings.wrds_erating \n",
    "    WHERE ratingdate >= '{start_date}' AND ratingdate <= '{end_date}'\n",
    "\"\"\"\n",
    "\n",
    "# Execute the query and fetch the data\n",
    "ratings_date = db.raw_sql(query)\n",
    "\n",
    "# Save the data to a CSV file\n",
    "ratings_date.to_csv('../Data/ratings_data.csv', index=False)\n",
    "'''"
   ]
  },
  {
   "cell_type": "code",
   "execution_count": 10,
   "metadata": {},
   "outputs": [
    {
     "name": "stdout",
     "output_type": "stream",
     "text": [
      "['aco_amda', 'aco_imda', 'aco_indfnta', 'aco_indfntq', 'aco_indfntytd', 'aco_indsta', 'aco_indstq', 'aco_indstytd', 'aco_notesa', 'aco_notesq', 'aco_notessa', 'aco_notesytd', 'aco_pnfnda', 'aco_pnfndq', 'aco_pnfndytd', 'aco_pnfnta', 'aco_pnfntq', 'aco_pnfntytd', 'aco_transa', 'aco_transq', 'aco_transsa', 'aco_transytd', 'adsprate', 'asec_amda', 'asec_imda', 'asec_notesa', 'asec_notesq', 'asec_transa', 'asec_transq', 'chars', 'co_aacctchg', 'co_aaudit', 'co_adesind', 'co_adjfact', 'co_afnd1', 'co_afnd2', 'co_afnddc1', 'co_afnddc2', 'co_afntind1', 'co_afntind2', 'co_ainvval', 'co_amkt', 'co_busdescl', 'co_cotype', 'co_filedate', 'co_fortune', 'co_hgic', 'co_iacctchg', 'co_iaudit', 'co_idesind', 'co_ifndq', 'co_ifndsa', 'co_ifndytd', 'co_ifntq', 'co_ifntsa', 'co_ifntytd', 'co_imkt', 'co_industry', 'co_ipcd', 'co_mthly', 'co_offtitl', 'company', 'currency', 'dd_group', 'dd_group_xref', 'dd_item', 'dd_package', 'ecind_desc', 'ecind_mth', 'exrt_dly', 'exrt_mth', 'funda', 'funda_fncd', 'fundq', 'fundq_fncd', 'idx_ann', 'idx_anndes', 'idx_daily', 'idx_index', 'idx_mth', 'idx_qrt', 'idx_qrtdes', 'idxcst_his', 'io_qaggregate', 'io_qbuysell', 'io_qchanges', 'io_qfloatadj', 'io_qholders', 'it_mbuysell', 'it_msummary', 'it_r_rltn', 'names', 'names_aco_indsta', 'names_aco_indstq', 'names_aco_pnfnda', 'names_aco_pnfndq', 'names_adsprate', 'names_ix', 'names_ix_cst', 'names_seg', 'namesd', 'namesm', 'namesq', 'r_accstd', 'r_acqmeth', 'r_auditors', 'r_auopic', 'r_balpres', 'r_cf_formt', 'r_co_status', 'r_coindpre', 'r_compstat', 'r_consol', 'r_country', 'r_cstclscd', 'r_datacode', 'r_datafmt', 'r_divtaxmarker', 'r_docsrce', 'r_ex_codes', 'r_exchgtier', 'r_exrt_typ', 'r_fndfntcd', 'r_footnts', 'r_foricd', 'r_giccd', 'r_hcalendr', 'r_idxclscd', 'r_inactvcd', 'r_incstats', 'r_indfmt', 'r_indsec', 'r_invval', 'r_issuetyp', 'r_majidxcl', 'r_mic_codes', 'r_naiccd', 'r_notetype', 'r_ntsubtype', 'r_offcrso', 'r_ogmethod', 'r_opinions', 'r_prc_stat', 'r_qsrcdoc', 'r_sec_stat', 'r_secannfn', 'r_sectors', 'r_siccd', 'r_spiicd', 'r_spmicd', 'r_statalrt', 'r_states', 'r_stko', 'r_titles', 'r_updates', 'sec_adesind', 'sec_adjfact', 'sec_afnd', 'sec_afnddc', 'sec_afnt', 'sec_divid', 'sec_dprc', 'sec_dtrt', 'sec_history', 'sec_idcurrent', 'sec_idesind', 'sec_idhist', 'sec_ifnd', 'sec_ifnt', 'sec_mdivfn', 'sec_mshare', 'sec_msptfn', 'sec_mth', 'sec_mthdiv', 'sec_mthprc', 'sec_mthspt', 'sec_mthtrt', 'sec_shortint', 'sec_spind', 'sec_split', 'secd', 'secm', 'security', 'sedolgvkey', 'seg_ann', 'seg_annfund', 'seg_customer', 'seg_geo', 'seg_naics', 'seg_product', 'seg_type', 'spidx_cst', 'spind', 'spind_dly', 'spind_mth', 'wrds_ratios', 'wrds_seg_customer', 'wrds_seg_geo', 'wrds_seg_product', 'wrds_segmerged', 'xfl_column', 'xfl_table']\n"
     ]
    }
   ],
   "source": [
    "# show available libraries from wrds\n",
    "libraries = db.list_libraries()\n",
    "\n",
    "# show available tables from wrds\n",
    "tables = db.list_tables(library='comp_na_daily_all')\n",
    "print(tables)"
   ]
  },
  {
   "cell_type": "code",
   "execution_count": 11,
   "metadata": {},
   "outputs": [
    {
     "name": "stderr",
     "output_type": "stream",
     "text": [
      "/Library/Frameworks/Python.framework/Versions/3.12/lib/python3.12/site-packages/wrds/sql.py:580: FutureWarning: The behavior of DataFrame concatenation with empty or all-NA entries is deprecated. In a future version, this will no longer exclude empty or all-NA columns when determining the result dtypes. To retain the old behavior, exclude the relevant entries before the concat operation.\n",
      "  full_df = pd.concat([full_df, chunk])\n"
     ]
    }
   ],
   "source": [
    "# Annual Compustat data\n",
    "fund_table = 'funda'\n",
    "# use the varlist above to query quarterly compustat data (don't use join(varlist) as it will return a string)\n",
    "query = f\"\"\"\n",
    "    SELECT *\n",
    "    FROM comp_na_daily_all.{fund_table}\n",
    "    WHERE datadate >= '{start_date}' AND datadate <= '{end_date}'\n",
    "\"\"\"\n",
    "compa = db.raw_sql(query)"
   ]
  },
  {
   "cell_type": "code",
   "execution_count": 15,
   "metadata": {},
   "outputs": [],
   "source": [
    "# all colnames of compa\n",
    "# check if sic exists\n",
    "# for each gvkey fyear, keep the one with the highest at\n",
    "compa = compa.sort_values(['gvkey', 'fyear', 'at'], ascending=[True, True, False])\n",
    "compa = compa.drop_duplicates(subset=['gvkey', 'fyear'], keep='first')\n",
    "# output csv. format\n",
    "compa.to_csv(\"../Data/Raw/compustat_annual.csv\", index=False)"
   ]
  },
  {
   "cell_type": "code",
   "execution_count": 2,
   "metadata": {},
   "outputs": [
    {
     "name": "stderr",
     "output_type": "stream",
     "text": [
      "/Library/Frameworks/Python.framework/Versions/3.12/lib/python3.12/site-packages/wrds/sql.py:580: FutureWarning: The behavior of DataFrame concatenation with empty or all-NA entries is deprecated. In a future version, this will no longer exclude empty or all-NA columns when determining the result dtypes. To retain the old behavior, exclude the relevant entries before the concat operation.\n",
      "  full_df = pd.concat([full_df, chunk])\n",
      "/Library/Frameworks/Python.framework/Versions/3.12/lib/python3.12/site-packages/wrds/sql.py:580: FutureWarning: The behavior of DataFrame concatenation with empty or all-NA entries is deprecated. In a future version, this will no longer exclude empty or all-NA columns when determining the result dtypes. To retain the old behavior, exclude the relevant entries before the concat operation.\n",
      "  full_df = pd.concat([full_df, chunk])\n"
     ]
    }
   ],
   "source": [
    "\n",
    "# Quarterly Compustat data\n",
    "fund_table = 'fundq'\n",
    "varlist = ['conm', 'tic', 'cusip','fyearq', 'fqtr', 'fyr', 'atq','capxy', 'ceqq', 'cogsq', \n",
    "           'cshoq', 'dlcq', 'dlcchy','dlttq', 'dpq', 'ibq', 'itccy', 'fic',\n",
    "           'ltq', 'mibq', 'niq', 'prstkccy', 'pstkq', 'req', 'revtq', 'saleq',\n",
    "           'seqq', 'txdbq', 'txdiq', 'txditcq', 'wcapchy', 'xinty', 'xrdq', 'xrdy', 'xsgaq',\n",
    "           'mkvaltq', 'epspxq', 'epsfxq', 'ajexq', 'prccq', 'oancfy', 'ivncfy', 'rdq', 'ppegtq', 'ppentq']\n",
    "# use the varlist above to query quarterly compustat data (don't use join(varlist) as it will return a string)\n",
    "query = f\"\"\"\n",
    "    SELECT *\n",
    "    FROM compm.{fund_table}\n",
    "    WHERE datadate >= '{start_date}' AND datadate <= '{end_date}'\n",
    "\"\"\"\n",
    "compq = db.raw_sql(query)\n",
    "# output csv. format\n",
    "compq.to_csv(\"../Data/Raw/compustat_quarterly.csv\", index=False)"
   ]
  },
  {
   "cell_type": "code",
   "execution_count": null,
   "metadata": {},
   "outputs": [],
   "source": [
    "# Query the dealscan syndicated loan data\n",
    "query = f\"\"\"\n",
    "    SELECT *\n",
    "    FROM tr_dealscan.dealscan\n",
    "    WHERE deal_active_date >= '{start_date}' AND deal_active_date <= '{end_date}'\n",
    "\"\"\"\n",
    "\n",
    "# Execute the query and fetch the data\n",
    "dealscan_data = db.raw_sql(query)\n",
    "# Save the data to a CSV file\n",
    "dealscan_data.to_csv('../Data/Raw/dealscan_data.csv', index=False)"
   ]
  },
  {
   "cell_type": "code",
   "execution_count": 3,
   "metadata": {},
   "outputs": [],
   "source": [
    "# obtain Dealscan legacy lenders data (to use 2018 JF bank name link)\n",
    "query = f\"\"\"\n",
    "    SELECT *\n",
    "    FROM tr_dealscan.lendershares\n",
    "\"\"\"\n",
    "lendershares = db.raw_sql(query)\n",
    "\n",
    "# output csv. format\n",
    "lendershares.to_csv(\"../Data/Raw/lendershares.csv\", index=False)"
   ]
  },
  {
   "cell_type": "code",
   "execution_count": 4,
   "metadata": {},
   "outputs": [],
   "source": [
    "# Disconnect from WRDS\n",
    "db.close()"
   ]
  }
 ],
 "metadata": {
  "kernelspec": {
   "display_name": "Python 3",
   "language": "python",
   "name": "python3"
  },
  "language_info": {
   "codemirror_mode": {
    "name": "ipython",
    "version": 3
   },
   "file_extension": ".py",
   "mimetype": "text/x-python",
   "name": "python",
   "nbconvert_exporter": "python",
   "pygments_lexer": "ipython3",
   "version": "3.12.0"
  }
 },
 "nbformat": 4,
 "nbformat_minor": 2
}
